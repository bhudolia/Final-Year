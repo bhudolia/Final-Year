{
 "cells": [
  {
   "cell_type": "code",
   "execution_count": 4,
   "metadata": {},
   "outputs": [
    {
     "name": "stdout",
     "output_type": "stream",
     "text": [
      "Retrieving the data of “Gotti” now… \n",
      "https://www.imdb.com/title/tt1801552/reviews\n"
     ]
    }
   ],
   "source": [
    "import urllib\n",
    "import json\n",
    "def search_movie(title):\n",
    "    if len(title) < 1 or title=='quit':\n",
    "        print('Goodbye now…')\n",
    "        return None\n",
    "    try:\n",
    "        url = serviceurl + urllib.parse.urlencode({'t': title})+apikey\n",
    "        print(f'Retrieving the data of “{title}” now… ')\n",
    "        uh = urllib.request.urlopen(url)\n",
    "        data = uh.read()\n",
    "        json_data=json.loads(data)\n",
    "\n",
    "        if json_data['Response']=='True':\n",
    "             return(json_data['imdbID'])\n",
    "    except urllib.error.URLError as e:\n",
    "        print(f\"ERROR: {e.reason}\")\n",
    "\n",
    "\n",
    "#with open('APIkeys.json') as f:\n",
    "#keys = json.load(f)\n",
    "omdbapi = 'a7b69699'\n",
    "serviceurl = 'http://www.omdbapi.com/?'\n",
    "apikey = '&apikey='+omdbapi        \n",
    "imdbid = search_movie('Gotti')\n",
    "\n",
    "url = 'https://www.imdb.com/title/'+imdbid+'/reviews'\n",
    "print(url)"
   ]
  },
  {
   "cell_type": "code",
   "execution_count": null,
   "metadata": {},
   "outputs": [],
   "source": []
  }
 ],
 "metadata": {
  "kernelspec": {
   "display_name": "Python 3",
   "language": "python",
   "name": "python3"
  },
  "language_info": {
   "codemirror_mode": {
    "name": "ipython",
    "version": 3
   },
   "file_extension": ".py",
   "mimetype": "text/x-python",
   "name": "python",
   "nbconvert_exporter": "python",
   "pygments_lexer": "ipython3",
   "version": "3.7.1"
  }
 },
 "nbformat": 4,
 "nbformat_minor": 2
}
